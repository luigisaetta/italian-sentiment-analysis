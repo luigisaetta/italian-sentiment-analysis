{
 "cells": [
  {
   "cell_type": "markdown",
   "id": "260725b8",
   "metadata": {},
   "source": [
    "### Test multi-lingual model\n",
    "\n",
    "* load the model and tokenizer from a local directory\n",
    "* use class definition in sentiment_analyzers file \n",
    "* Conda env used: Natural Language Processing for CPU Python 3.7"
   ]
  },
  {
   "cell_type": "code",
   "execution_count": 1,
   "id": "8e76c0af",
   "metadata": {},
   "outputs": [],
   "source": [
    "import torch\n",
    "from torch import nn\n",
    "\n",
    "# HuggingFace transformers (availale in OCI DS conda nlp env)\n",
    "# see: https://github.com/huggingface/transformers\n",
    "from transformers import AutoTokenizer, AutoModelForSequenceClassification\n",
    "\n",
    "# from my Python file\n",
    "from sentiment_analyzers import MultiSentimentAnalyzer"
   ]
  },
  {
   "cell_type": "code",
   "execution_count": 2,
   "id": "a9d46d1a",
   "metadata": {},
   "outputs": [
    {
     "name": "stdout",
     "output_type": "stream",
     "text": [
      "Loading model...\n",
      "Model loading completed!\n",
      "CPU times: user 1.03 s, sys: 206 ms, total: 1.23 s\n",
      "Wall time: 1.09 s\n"
     ]
    }
   ],
   "source": [
    "%%time\n",
    "\n",
    "# loading the model from a local dir: pass the local dir\n",
    "LOCAL_DIR = \"nlptown-checkpoint\"\n",
    "\n",
    "# labels are dependent on the used mdel , see HF documentation\n",
    "sent_analyzer = MultiSentimentAnalyzer(\n",
    "    LOCAL_DIR, labels=[\"1 star\", \"2 star\", \"3 star\", \"4 star\", \"5 star\"]\n",
    ")"
   ]
  },
  {
   "cell_type": "markdown",
   "id": "97d7cad9",
   "metadata": {},
   "source": [
    "### Some tests"
   ]
  },
  {
   "cell_type": "code",
   "execution_count": 3,
   "id": "6934eba2",
   "metadata": {},
   "outputs": [
    {
     "name": "stdout",
     "output_type": "stream",
     "text": [
      "CPU times: user 164 ms, sys: 4.88 ms, total: 169 ms\n",
      "Wall time: 43.7 ms\n"
     ]
    },
    {
     "data": {
      "text/plain": [
       "'1 star: 0.0056|2 star: 0.0059|3 star: 0.0518|4 star: 0.323|5 star: 0.6137|'"
      ]
     },
     "execution_count": 3,
     "metadata": {},
     "output_type": "execute_result"
    }
   ],
   "source": [
    "%%time\n",
    "\n",
    "scores = sent_analyzer.score(\"Il servizio offerto alla clientela è ottimo\")\n",
    "\n",
    "sent_analyzer.format_scores(scores)"
   ]
  },
  {
   "cell_type": "code",
   "execution_count": 4,
   "id": "67be3d75",
   "metadata": {},
   "outputs": [
    {
     "data": {
      "text/plain": [
       "'1 star: 0.0031|2 star: 0.0043|3 star: 0.0572|4 star: 0.4137|5 star: 0.5217|'"
      ]
     },
     "execution_count": 4,
     "metadata": {},
     "output_type": "execute_result"
    }
   ],
   "source": [
    "scores = sent_analyzer.score(\n",
    "    \"The service you have offered to your customers is really good\"\n",
    ")\n",
    "\n",
    "sent_analyzer.format_scores(scores)"
   ]
  },
  {
   "cell_type": "code",
   "execution_count": 5,
   "id": "64b8c743",
   "metadata": {},
   "outputs": [
    {
     "name": "stdout",
     "output_type": "stream",
     "text": [
      "1. E' un prodotto pessimo\n",
      "1 star: 0.9365|2 star: 0.0558|3 star: 0.0063|4 star: 0.0008|5 star: 0.0006|\n",
      "\n",
      "2. La sua organizzazione ha fornito un buon servizio alla clientela\n",
      "1 star: 0.0041|2 star: 0.0072|3 star: 0.1284|4 star: 0.5368|5 star: 0.3235|\n",
      "\n",
      "3. La sua organizzazione non ha fornito un buon servizio alla clientela\n",
      "1 star: 0.2703|2 star: 0.4699|3 star: 0.2328|4 star: 0.0228|5 star: 0.0042|\n",
      "\n",
      "4. Non credo che la sua organizzazione abbia fornito un buon servizio alla clientela\n",
      "1 star: 0.0336|2 star: 0.0579|3 star: 0.2817|4 star: 0.4109|5 star: 0.2159|\n",
      "\n",
      "5. Il prodotto non funziona, non comprero' più nulla dalla vostra azienda\n",
      "1 star: 0.9054|2 star: 0.0825|3 star: 0.0105|4 star: 0.0009|5 star: 0.0006|\n",
      "\n",
      "6. Io penso che la sua organizzazione non abbia fornito un buon servizio alla clientela\n",
      "1 star: 0.304|2 star: 0.4361|3 star: 0.2269|4 star: 0.0261|5 star: 0.0068|\n",
      "\n",
      "7. La gestione da parte della Regione Lazio della complessa macchina dei vaccini è stata buona?\n",
      "1 star: 0.1193|2 star: 0.2377|3 star: 0.3919|4 star: 0.1849|5 star: 0.0662|\n",
      "\n",
      "8. La gestione da parte della Regione Lazio della complessa macchina dei vaccini è stata buona\n",
      "1 star: 0.0058|2 star: 0.0141|3 star: 0.197|4 star: 0.5233|5 star: 0.2598|\n",
      "\n",
      "9. La vostra organizzazione offre servizi pessimi\n",
      "1 star: 0.806|2 star: 0.1544|3 star: 0.0321|4 star: 0.0048|5 star: 0.0027|\n",
      "\n",
      "10. La vostra organizzazione offre servizi non adeguati\n",
      "1 star: 0.433|2 star: 0.3875|3 star: 0.152|4 star: 0.0202|5 star: 0.0073|\n",
      "\n",
      "11. Sono molto soddisfatto del tuo lavoro\n",
      "1 star: 0.0022|2 star: 0.0024|3 star: 0.0228|4 star: 0.2904|5 star: 0.6822|\n",
      "\n",
      "12. non sono del tutto sicuro che il lavoro sia adeguato\n",
      "1 star: 0.0812|2 star: 0.4218|3 star: 0.4576|4 star: 0.0351|5 star: 0.0044|\n",
      "\n",
      "13. l'azienda dovrebbe offrire servizi migliori\n",
      "1 star: 0.1404|2 star: 0.2842|3 star: 0.3919|4 star: 0.1293|5 star: 0.0542|\n",
      "\n",
      "14. il supporto offerto dal customer care non è stato adeguato\n",
      "1 star: 0.3425|2 star: 0.4247|3 star: 0.2104|4 star: 0.0188|5 star: 0.0037|\n",
      "\n",
      "15. il risultato è pessimo\n",
      "1 star: 0.7333|2 star: 0.2177|3 star: 0.0447|4 star: 0.0034|5 star: 0.001|\n",
      "\n",
      "16. il Napoli ha giocato una partita decente\n",
      "1 star: 0.0261|2 star: 0.0901|3 star: 0.5554|4 star: 0.2638|5 star: 0.0645|\n",
      "\n",
      "17. il lavoro dell'allenatore è stato modesto\n",
      "1 star: 0.1189|2 star: 0.3707|3 star: 0.4305|4 star: 0.066|5 star: 0.0139|\n",
      "\n",
      "\n",
      "CPU times: user 3.73 s, sys: 67.5 ms, total: 3.8 s\n",
      "Wall time: 949 ms\n"
     ]
    }
   ],
   "source": [
    "%%time\n",
    "\n",
    "input_sentences = [\n",
    "    \"E' un prodotto pessimo\",\n",
    "    \"La sua organizzazione ha fornito un buon servizio alla clientela\",\n",
    "    \"La sua organizzazione non ha fornito un buon servizio alla clientela\",\n",
    "    \"Non credo che la sua organizzazione abbia fornito un buon servizio alla clientela\",\n",
    "    \"Il prodotto non funziona, non comprero' più nulla dalla vostra azienda\",\n",
    "    \"Io penso che la sua organizzazione non abbia fornito un buon servizio alla clientela\",\n",
    "    \"La gestione da parte della Regione Lazio della complessa macchina dei vaccini è stata buona?\",\n",
    "    \"La gestione da parte della Regione Lazio della complessa macchina dei vaccini è stata buona\",\n",
    "    \"La vostra organizzazione offre servizi pessimi\",\n",
    "    \"La vostra organizzazione offre servizi non adeguati\",\n",
    "    \"Sono molto soddisfatto del tuo lavoro\",\n",
    "    \"non sono del tutto sicuro che il lavoro sia adeguato\",\n",
    "    \"l'azienda dovrebbe offrire servizi migliori\",\n",
    "    \"il supporto offerto dal customer care non è stato adeguato\",\n",
    "    \"il risultato è pessimo\",\n",
    "    \"il Napoli ha giocato una partita decente\",\n",
    "    \"il lavoro dell'allenatore è stato modesto\",\n",
    "]\n",
    "\n",
    "\n",
    "# object already instantiated\n",
    "\n",
    "for i, sentence in enumerate(input_sentences):\n",
    "\n",
    "    #\n",
    "    # here I do the scoring on a single sentence\n",
    "    #\n",
    "    scores = sent_analyzer.score(sentence)\n",
    "\n",
    "    # scores is a dict of []\n",
    "\n",
    "    print(f\"{i+1}. {sentence}\")\n",
    "    print(sent_analyzer.format_scores(scores))\n",
    "    print()\n",
    "\n",
    "# formatting\n",
    "print()"
   ]
  },
  {
   "cell_type": "markdown",
   "id": "4cd7ba8b",
   "metadata": {},
   "source": [
    "### Test batch scoring"
   ]
  },
  {
   "cell_type": "code",
   "execution_count": 6,
   "id": "3fe57c5c",
   "metadata": {},
   "outputs": [
    {
     "name": "stdout",
     "output_type": "stream",
     "text": [
      "CPU times: user 1.81 s, sys: 18.6 ms, total: 1.83 s\n",
      "Wall time: 458 ms\n"
     ]
    },
    {
     "data": {
      "text/plain": [
       "array([[9.36530411e-01, 5.57628833e-02, 6.32156758e-03, 7.53047701e-04,\n",
       "        6.32080191e-04],\n",
       "       [4.12125653e-03, 7.21547566e-03, 1.28380179e-01, 5.36811888e-01,\n",
       "        3.23471189e-01],\n",
       "       [2.70302534e-01, 4.69895959e-01, 2.32795313e-01, 2.28488818e-02,\n",
       "        4.15722933e-03],\n",
       "       [3.35857086e-02, 5.78925386e-02, 2.81715304e-01, 4.10936803e-01,\n",
       "        2.15869650e-01],\n",
       "       [9.05406475e-01, 8.24872330e-02, 1.05212545e-02, 9.45095322e-04,\n",
       "        6.39984093e-04],\n",
       "       [3.04037273e-01, 4.36088532e-01, 2.26905301e-01, 2.61404067e-02,\n",
       "        6.82839612e-03],\n",
       "       [1.19330466e-01, 2.37725034e-01, 3.91879618e-01, 1.84853911e-01,\n",
       "        6.62109852e-02],\n",
       "       [5.81736583e-03, 1.41184954e-02, 1.97010979e-01, 5.23295641e-01,\n",
       "        2.59757489e-01],\n",
       "       [8.06014359e-01, 1.54373407e-01, 3.20888162e-02, 4.82816203e-03,\n",
       "        2.69529247e-03],\n",
       "       [4.33025539e-01, 3.87495548e-01, 1.51978835e-01, 2.02062204e-02,\n",
       "        7.29385810e-03],\n",
       "       [2.22115824e-03, 2.38445750e-03, 2.27746349e-02, 2.90430814e-01,\n",
       "        6.82188869e-01],\n",
       "       [8.11970532e-02, 4.21769619e-01, 4.57582593e-01, 3.50824744e-02,\n",
       "        4.36830102e-03],\n",
       "       [1.40418366e-01, 2.84162849e-01, 3.91926736e-01, 1.29325479e-01,\n",
       "        5.41665405e-02],\n",
       "       [3.42493892e-01, 4.24689710e-01, 2.10386142e-01, 1.87685732e-02,\n",
       "        3.66174500e-03],\n",
       "       [7.33285725e-01, 2.17683971e-01, 4.46844995e-02, 3.35229165e-03,\n",
       "        9.93568101e-04],\n",
       "       [2.61199977e-02, 9.01107192e-02, 5.55435061e-01, 2.63846636e-01,\n",
       "        6.44875690e-02],\n",
       "       [1.18875548e-01, 3.70702624e-01, 4.30474997e-01, 6.60433173e-02,\n",
       "        1.39034055e-02]], dtype=float32)"
      ]
     },
     "execution_count": 6,
     "metadata": {},
     "output_type": "execute_result"
    }
   ],
   "source": [
    "%%time\n",
    "\n",
    "scores = sent_analyzer.batch_score(input_sentences)\n",
    "\n",
    "# Instead of a tensor I want the numpy vector\n",
    "scores.numpy()"
   ]
  },
  {
   "cell_type": "markdown",
   "id": "627c9291",
   "metadata": {},
   "source": [
    "### custom test"
   ]
  },
  {
   "cell_type": "code",
   "execution_count": 7,
   "id": "580da09a",
   "metadata": {},
   "outputs": [
    {
     "data": {
      "text/plain": [
       "[{'label': '1 star', 'score': 0.9365},\n",
       " {'label': '2 star', 'score': 0.0558},\n",
       " {'label': '3 star', 'score': 0.0063},\n",
       " {'label': '4 star', 'score': 0.0008},\n",
       " {'label': '5 star', 'score': 0.0006}]"
      ]
     },
     "execution_count": 7,
     "metadata": {},
     "output_type": "execute_result"
    }
   ],
   "source": [
    "sentence = \"E' un prodotto pessimo\"\n",
    "\n",
    "sent_analyzer.score(sentence)"
   ]
  },
  {
   "cell_type": "code",
   "execution_count": null,
   "id": "d399ab2c",
   "metadata": {},
   "outputs": [],
   "source": []
  }
 ],
 "metadata": {
  "kernelspec": {
   "display_name": "Python [conda env:nlp_p37_cpu_v2]",
   "language": "python",
   "name": "conda-env-nlp_p37_cpu_v2-py"
  },
  "language_info": {
   "codemirror_mode": {
    "name": "ipython",
    "version": 3
   },
   "file_extension": ".py",
   "mimetype": "text/x-python",
   "name": "python",
   "nbconvert_exporter": "python",
   "pygments_lexer": "ipython3",
   "version": "3.7.8"
  }
 },
 "nbformat": 4,
 "nbformat_minor": 5
}
