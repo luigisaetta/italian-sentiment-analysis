{
 "cells": [
  {
   "cell_type": "markdown",
   "id": "c82b4b8f",
   "metadata": {},
   "source": [
    "### Sentiment Analysis in Italian using Transformers\n",
    "\n",
    "based on Neuraly work:\n",
    "* see: https://huggingface.co/neuraly/bert-base-italian-cased-sentiment\n",
    "* https://medium.com/@a.bellini/leveraging-huggingfaces-transformers-for-cross-lingual-sentiment-analysis-acca1f4e9da6"
   ]
  },
  {
   "cell_type": "code",
   "execution_count": 1,
   "id": "8a893b65",
   "metadata": {},
   "outputs": [],
   "source": [
    "import torch\n",
    "import numpy as np\n",
    "from torch import nn  \n",
    "from transformers import AutoTokenizer, AutoModelForSequenceClassification"
   ]
  },
  {
   "cell_type": "markdown",
   "id": "6ce4d425",
   "metadata": {},
   "source": [
    "### Python class\n",
    "\n",
    "I have encapsulated the code from the HF site of the model, with some semplification, in a Python class."
   ]
  },
  {
   "cell_type": "code",
   "execution_count": 2,
   "id": "7d25757d",
   "metadata": {},
   "outputs": [],
   "source": [
    "class ITASentimentAnalyzer:\n",
    "    # load the tokenizer and transformer\n",
    "    def __init__(self, MODEL_NAME):\n",
    "        \n",
    "        # for rounding\n",
    "        self.DEC_DIGITS = 4\n",
    "        \n",
    "        # name of HuggingFace model used\n",
    "        self.MODEL_NAME = MODEL_NAME\n",
    "        \n",
    "        print(\"Loading model...\")\n",
    "        self.tokenizer = AutoTokenizer.from_pretrained(self.MODEL_NAME)\n",
    "        # Load the model\n",
    "        self.model = AutoModelForSequenceClassification.from_pretrained(self.MODEL_NAME)\n",
    "        \n",
    "        print(\"Model loading completed!\")\n",
    "    \n",
    "    # utility to get rid of tensor and round\n",
    "    def round(self, tens_val):\n",
    "        \n",
    "        return round(tens_val.item(), self.DEC_DIGITS)\n",
    "    \n",
    "    def compute_ids(self, input_sentence):\n",
    "        input_ids = self.tokenizer(input_sentence, add_special_tokens=True)['input_ids']\n",
    "        print(input_ids)\n",
    "        \n",
    "        return\n",
    "    \n",
    "    #\n",
    "    # does the scoring on a single sentence a time\n",
    "    #\n",
    "    def score(self, input_sentence):\n",
    "        # encode the sentence and create the input tensor (in PyTorch format)\n",
    "        input_ids = self.tokenizer(input_sentence, add_special_tokens=True, return_tensors='pt')['input_ids']\n",
    "        \n",
    "        # output from tokenizer is already a tensor\n",
    "        \n",
    "        # Call the model and get the logits\n",
    "        with torch.no_grad():\n",
    "            logits = self.model(input_ids)['logits']\n",
    "\n",
    "        # The model was trained with a Log Likelyhood + Softmax combined loss, hence to extract probabilities we need a softmax on top of the logits tensor\n",
    "        proba = nn.functional.softmax(logits, dim=1)\n",
    "    \n",
    "        # to remove the added dimension with squeeze\n",
    "        # proba is (negative, neutral, positive)\n",
    "        scores = proba.squeeze(0)\n",
    "        \n",
    "        # get rid of tensor and round and \n",
    "        # prepare the output json\n",
    "        \n",
    "        ret_vet = []\n",
    "        \n",
    "        for i, label in enumerate(['negative', 'neutral', 'positive']):\n",
    "            ret_vet.append({'label' : label, 'score' : self.round(scores[i])})\n",
    "        \n",
    "        return ret_vet\n",
    "    \n",
    "    def batch_predict(self, input_sentences):\n",
    "        # encode the sentence and create the input tensor\n",
    "        input_ids = self.tokenizer(input_sentences, add_special_tokens=True, padding=True)['input_ids']\n",
    "        \n",
    "        print(input_ids)\n",
    "        \n",
    "        return"
   ]
  },
  {
   "cell_type": "code",
   "execution_count": 3,
   "id": "02dba7a2",
   "metadata": {},
   "outputs": [
    {
     "name": "stdout",
     "output_type": "stream",
     "text": [
      "Loading model...\n",
      "Model loading completed!\n",
      "CPU times: user 827 ms, sys: 147 ms, total: 974 ms\n",
      "Wall time: 5.95 s\n"
     ]
    }
   ],
   "source": [
    "%%time\n",
    "\n",
    "# loading the model: pass the HF model name\n",
    "sent_analyzer = ITASentimentAnalyzer(\"neuraly/bert-base-italian-cased-sentiment\")"
   ]
  },
  {
   "cell_type": "code",
   "execution_count": 4,
   "id": "23c2df3b",
   "metadata": {},
   "outputs": [
    {
     "data": {
      "text/plain": [
       "[{'label': 'negative', 'score': 0.9716},\n",
       " {'label': 'neutral', 'score': 0.0181},\n",
       " {'label': 'positive', 'score': 0.0103}]"
      ]
     },
     "execution_count": 4,
     "metadata": {},
     "output_type": "execute_result"
    }
   ],
   "source": [
    "scores = sent_analyzer.score(\"Non credo che la sua organizzazione abbia fornito un buon servizio alla clientela\")\n",
    "\n",
    "scores"
   ]
  },
  {
   "cell_type": "markdown",
   "id": "354eef11",
   "metadata": {},
   "source": [
    "### test su un set di frasi"
   ]
  },
  {
   "cell_type": "code",
   "execution_count": 10,
   "id": "e8f7f9f8",
   "metadata": {},
   "outputs": [],
   "source": [
    "# only to format output\n",
    "def format_scores(scores):\n",
    "    score_str = \"\"\n",
    "    \n",
    "    for v_score in scores:\n",
    "        score_str += v_score['label'] + \": \" + str(v_score['score']) + \"|\"\n",
    "    \n",
    "    return score_str"
   ]
  },
  {
   "cell_type": "code",
   "execution_count": 11,
   "id": "56688fd3",
   "metadata": {},
   "outputs": [
    {
     "name": "stdout",
     "output_type": "stream",
     "text": [
      "E' un prodotto pessimo\n",
      "negative: 0.9978|neutral: 0.002|positive: 0.0002|\n",
      "\n",
      "La sua organizzazione ha fornito un buon servizio alla clientela\n",
      "negative: 0.0002|neutral: 0.002|positive: 0.9978|\n",
      "\n",
      "La sua organizzazione non ha fornito un buon servizio alla clientela\n",
      "negative: 0.9951|neutral: 0.0046|positive: 0.0003|\n",
      "\n",
      "Non credo che la sua organizzazione abbia fornito un buon servizio alla clientela\n",
      "negative: 0.9716|neutral: 0.0181|positive: 0.0103|\n",
      "\n",
      "Il prodotto non funziona, non comprero' più nulla dalla vostra azienda\n",
      "negative: 0.9976|neutral: 0.0023|positive: 0.0002|\n",
      "\n",
      "Io penso che la sua organizzazione non abbia fornito un buon servizio alla clientela\n",
      "negative: 0.9973|neutral: 0.0025|positive: 0.0002|\n",
      "\n",
      "La gestione da parte della Regione Lazio della complessa macchina dei vaccini è stata buona?\n",
      "negative: 0.0006|neutral: 0.8939|positive: 0.1055|\n",
      "\n",
      "La gestione da parte della Regione Lazio della complessa macchina dei vaccini è stata buona\n",
      "negative: 0.0004|neutral: 0.0487|positive: 0.9509|\n",
      "\n",
      "La vostra organizzazione offre servizi pessimi\n",
      "negative: 0.9852|neutral: 0.0146|positive: 0.0002|\n",
      "\n",
      "La vostra organizzazione offre servizi non adeguati\n",
      "negative: 0.9593|neutral: 0.0405|positive: 0.0002|\n",
      "\n",
      "Sono molto soddisfatto del tuo lavoro\n",
      "negative: 0.0002|neutral: 0.0015|positive: 0.9984|\n",
      "\n",
      "non sono del tutto sicuro che il lavoro sia adeguato\n",
      "negative: 0.6756|neutral: 0.3186|positive: 0.0058|\n",
      "\n",
      "l'azienda dovrebbe offrire servizi migliori\n",
      "negative: 0.0035|neutral: 0.0057|positive: 0.9908|\n",
      "\n",
      "il supporto offerto dal customer care non è stato adeguato\n",
      "negative: 0.9884|neutral: 0.0114|positive: 0.0002|\n",
      "\n",
      "il risultato è pessimo\n",
      "negative: 0.9974|neutral: 0.0025|positive: 0.0002|\n",
      "\n",
      "il Napoli ha giocato una partita ottima\n",
      "negative: 0.0001|neutral: 0.0134|positive: 0.9865|\n",
      "\n",
      "il lavoro dell'allenatore è stato modesto\n",
      "negative: 0.0141|neutral: 0.9705|positive: 0.0154|\n",
      "\n",
      "\n",
      "CPU times: user 2.58 s, sys: 38 ms, total: 2.62 s\n",
      "Wall time: 654 ms\n"
     ]
    }
   ],
   "source": [
    "%%time\n",
    "\n",
    "input_sentences = [\n",
    "    \"E' un prodotto pessimo\",\n",
    "    \"La sua organizzazione ha fornito un buon servizio alla clientela\",\n",
    "    \"La sua organizzazione non ha fornito un buon servizio alla clientela\",\n",
    "    \"Non credo che la sua organizzazione abbia fornito un buon servizio alla clientela\",\n",
    "    \"Il prodotto non funziona, non comprero' più nulla dalla vostra azienda\",\n",
    "    \"Io penso che la sua organizzazione non abbia fornito un buon servizio alla clientela\",\n",
    "    \"La gestione da parte della Regione Lazio della complessa macchina dei vaccini è stata buona?\",\n",
    "    \"La gestione da parte della Regione Lazio della complessa macchina dei vaccini è stata buona\",\n",
    "    \"La vostra organizzazione offre servizi pessimi\",\n",
    "    \"La vostra organizzazione offre servizi non adeguati\",\n",
    "    \"Sono molto soddisfatto del tuo lavoro\",\n",
    "    \"non sono del tutto sicuro che il lavoro sia adeguato\",\n",
    "    \"l'azienda dovrebbe offrire servizi migliori\",\n",
    "    \"il supporto offerto dal customer care non è stato adeguato\",\n",
    "    \"il risultato è pessimo\",\n",
    "    \"il Napoli ha giocato una partita ottima\",\n",
    "    \"il lavoro dell'allenatore è stato modesto\"\n",
    "]\n",
    "\n",
    "\n",
    "# sent_analyzer = ITASentimentAnalyzer()\n",
    "for sentence in input_sentences:\n",
    "        scores = sent_analyzer.score(sentence)\n",
    "    \n",
    "        print(sentence)\n",
    "        print(format_scores(scores))\n",
    "        print()\n",
    "            \n",
    "# formatting\n",
    "print()"
   ]
  },
  {
   "cell_type": "markdown",
   "id": "1ca0da30",
   "metadata": {},
   "source": [
    "### next step: Test batch"
   ]
  },
  {
   "cell_type": "code",
   "execution_count": null,
   "id": "1ba89406",
   "metadata": {},
   "outputs": [],
   "source": []
  }
 ],
 "metadata": {
  "kernelspec": {
   "display_name": "Python [conda env:nlp_p37_cpu_v2]",
   "language": "python",
   "name": "conda-env-nlp_p37_cpu_v2-py"
  },
  "language_info": {
   "codemirror_mode": {
    "name": "ipython",
    "version": 3
   },
   "file_extension": ".py",
   "mimetype": "text/x-python",
   "name": "python",
   "nbconvert_exporter": "python",
   "pygments_lexer": "ipython3",
   "version": "3.7.8"
  }
 },
 "nbformat": 4,
 "nbformat_minor": 5
}
