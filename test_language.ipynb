{
 "cells": [
  {
   "cell_type": "markdown",
   "id": "fcf2ae25",
   "metadata": {},
   "source": [
    "### Check Language"
   ]
  },
  {
   "cell_type": "code",
   "execution_count": 8,
   "id": "c12030ae",
   "metadata": {},
   "outputs": [],
   "source": [
    "import oci\n",
    "import requests\n",
    "\n",
    "from ads import set_auth"
   ]
  },
  {
   "cell_type": "code",
   "execution_count": 9,
   "id": "01e9b5b9",
   "metadata": {},
   "outputs": [],
   "source": [
    "set_auth(auth='resource_principal')\n",
    "\n",
    "rps = oci.auth.signers.get_resource_principals_signer()"
   ]
  },
  {
   "cell_type": "code",
   "execution_count": 6,
   "id": "43c644a0",
   "metadata": {},
   "outputs": [],
   "source": [
    "ai_language_client = oci.ai_language.AIServiceLanguageClient(config={}, signer=rps)"
   ]
  },
  {
   "cell_type": "code",
   "execution_count": 7,
   "id": "dcdb067e",
   "metadata": {},
   "outputs": [
    {
     "name": "stderr",
     "output_type": "stream",
     "text": [
      "ServiceError: {'opc-request-id': 'F5F4B0EBE4AA49EEB7C6B413C9F8F393/13B9DADA1DDA2E4C93351CA63EEA7B74/FEA02C0BBABD7F1FBBAAA48B5C3BA041', 'code': 'NotAuthorizedOrNotFound', 'message': 'Authorization failed or requested resource not found.', 'status': 404}"
     ]
    }
   ],
   "source": [
    "detect_dominant_language_response = ai_language_client.detect_dominant_language(\n",
    "    detect_dominant_language_details=oci.ai_language.models.DetectDominantLanguageDetails(\n",
    "        text=\"Una frase in italiano\"))"
   ]
  },
  {
   "cell_type": "code",
   "execution_count": 11,
   "id": "30ebfb9e",
   "metadata": {},
   "outputs": [
    {
     "data": {
      "text/plain": [
       "{'code': 'NotAuthorizedOrNotFound',\n",
       " 'message': 'Authorization failed or requested resource not found.'}"
      ]
     },
     "execution_count": 11,
     "metadata": {},
     "output_type": "execute_result"
    }
   ],
   "source": [
    "# test using REST directly\n",
    "endpoint = \"https://language.aiservice.eu-frankfurt-1.oci.oraclecloud.com/20210101/actions/detectDominantLanguage\"\n",
    "\n",
    "body = {} # payload goes here\n",
    "\n",
    "requests.post(endpoint, json=body, auth=rps).json()"
   ]
  },
  {
   "cell_type": "code",
   "execution_count": null,
   "id": "63cd4ee6",
   "metadata": {},
   "outputs": [],
   "source": []
  }
 ],
 "metadata": {
  "kernelspec": {
   "display_name": "Python [conda env:nlp_p37_cpu_v2]",
   "language": "python",
   "name": "conda-env-nlp_p37_cpu_v2-py"
  },
  "language_info": {
   "codemirror_mode": {
    "name": "ipython",
    "version": 3
   },
   "file_extension": ".py",
   "mimetype": "text/x-python",
   "name": "python",
   "nbconvert_exporter": "python",
   "pygments_lexer": "ipython3",
   "version": "3.7.8"
  }
 },
 "nbformat": 4,
 "nbformat_minor": 5
}
