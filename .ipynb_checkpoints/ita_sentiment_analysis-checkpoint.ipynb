{
 "cells": [
  {
   "cell_type": "markdown",
   "id": "2a0fff2d",
   "metadata": {},
   "source": [
    "### Sentiment Analysis in Italian using Transformers\n",
    "\n",
    "based on **Neuraly** work; See:\n",
    "* see: https://huggingface.co/neuraly/bert-base-italian-cased-sentiment\n",
    "* https://medium.com/@a.bellini/leveraging-huggingfaces-transformers-for-cross-lingual-sentiment-analysis-acca1f4e9da6\n",
    "\n",
    "for more details, see also:\n",
    "* https://huggingface.co/blog/sentiment-analysis-python"
   ]
  },
  {
   "cell_type": "code",
   "execution_count": 1,
   "id": "5ea24846",
   "metadata": {},
   "outputs": [],
   "source": [
    "import torch\n",
    "from torch import nn\n",
    "\n",
    "# HuggingFace transformers (availale in OCI DS conda nlp env)\n",
    "# see: https://github.com/huggingface/transformers\n",
    "from transformers import AutoTokenizer, AutoModelForSequenceClassification"
   ]
  },
  {
   "cell_type": "markdown",
   "id": "1297d60f",
   "metadata": {},
   "source": [
    "### Python class\n",
    "\n",
    "I have encapsulated the code from the HF site of the model, with some semplification, in a Python class.\n",
    "\n",
    "* Conda env used: Natural Language Processing for CPU Python 3.7"
   ]
  },
  {
   "cell_type": "code",
   "execution_count": 6,
   "id": "1a86dc83",
   "metadata": {},
   "outputs": [],
   "source": [
    "class ITASentimentAnalyzer:\n",
    "    # load the tokenizer and transformer\n",
    "    def __init__(self, MODEL_NAME):\n",
    "\n",
    "        #\n",
    "        # attribute definitions\n",
    "        #\n",
    "\n",
    "        # for rounding the scores\n",
    "        self._DEC_DIGITS = 4\n",
    "\n",
    "        # name of HuggingFace model used\n",
    "        self._MODEL_NAME = MODEL_NAME\n",
    "\n",
    "        # the list of defined labels (and therefore we will have 3 scores)\n",
    "        self._LABELS = [\"negative\", \"neutral\", \"positive\"]\n",
    "\n",
    "        print(\"Loading model...\")\n",
    "        self.tokenizer = AutoTokenizer.from_pretrained(self._MODEL_NAME)\n",
    "        # Load the model\n",
    "        self.model = AutoModelForSequenceClassification.from_pretrained(\n",
    "            self._MODEL_NAME\n",
    "        )\n",
    "\n",
    "        print(\"Model loading completed!\")\n",
    "\n",
    "    #\n",
    "    # does the scoring on a single sentence a time\n",
    "    #\n",
    "    def score(self, input_sentence):\n",
    "        # encode the sentence and create the input tensor (in PyTorch format)\n",
    "        input_ids = self.tokenizer(\n",
    "            input_sentence, add_special_tokens=True, return_tensors=\"pt\"\n",
    "        )[\"input_ids\"]\n",
    "\n",
    "        # output from tokenizer is already a tensor\n",
    "\n",
    "        # Call the model and get the logits\n",
    "        with torch.no_grad():\n",
    "            logits = self.model(input_ids)[\"logits\"]\n",
    "\n",
    "        # The model was trained with a Log Likelyhood + Softmax combined loss, hence to extract probabilities we need a softmax on top of the logits tensor\n",
    "        proba = nn.functional.softmax(logits, dim=1)\n",
    "\n",
    "        # to remove the added dimension with squeeze\n",
    "        # proba is (negative, neutral, positive)\n",
    "        scores = proba.squeeze(0)\n",
    "\n",
    "        # get rid of tensor and round and\n",
    "        # prepare the output json\n",
    "\n",
    "        ret_vet = []\n",
    "\n",
    "        for i, label in enumerate(self._LABELS):\n",
    "            ret_vet.append({\"label\": label, \"score\": self.round(scores[i])})\n",
    "\n",
    "        return ret_vet\n",
    "\n",
    "    # only to format output\n",
    "    def format_scores(self, scores):\n",
    "        score_str = \"\"\n",
    "\n",
    "        for v_score in scores:\n",
    "            score_str += str(v_score[\"label\"]) + \": \" + str(v_score[\"score\"]) + \"|\"\n",
    "\n",
    "        return score_str\n",
    "\n",
    "    # utility to get rid of tensor and round\n",
    "    def round(self, tens_val):\n",
    "        return round(tens_val.item(), self._DEC_DIGITS)"
   ]
  },
  {
   "cell_type": "markdown",
   "id": "1f241c98",
   "metadata": {},
   "source": [
    "### Some tests"
   ]
  },
  {
   "cell_type": "code",
   "execution_count": 13,
   "id": "35dee9b7",
   "metadata": {},
   "outputs": [
    {
     "name": "stdout",
     "output_type": "stream",
     "text": [
      "Loading model...\n",
      "Model loading completed!\n",
      "CPU times: user 868 ms, sys: 111 ms, total: 979 ms\n",
      "Wall time: 5.97 s\n"
     ]
    }
   ],
   "source": [
    "%%time\n",
    "\n",
    "# loading the model: pass the HF model name\n",
    "MODEL_NAME = \"neuraly/bert-base-italian-cased-sentiment\"\n",
    "\n",
    "sent_analyzer = ITASentimentAnalyzer(MODEL_NAME)"
   ]
  },
  {
   "cell_type": "code",
   "execution_count": 14,
   "id": "5d814a1f",
   "metadata": {},
   "outputs": [
    {
     "name": "stdout",
     "output_type": "stream",
     "text": [
      "CPU times: user 182 ms, sys: 2.05 ms, total: 184 ms\n",
      "Wall time: 46.6 ms\n"
     ]
    },
    {
     "data": {
      "text/plain": [
       "[{'label': 'negative', 'score': 0.9716},\n",
       " {'label': 'neutral', 'score': 0.0181},\n",
       " {'label': 'positive', 'score': 0.0103}]"
      ]
     },
     "execution_count": 14,
     "metadata": {},
     "output_type": "execute_result"
    }
   ],
   "source": [
    "%%time\n",
    "\n",
    "scores = sent_analyzer.score(\n",
    "    \"Non credo che la sua organizzazione abbia fornito un buon servizio alla clientela\"\n",
    ")\n",
    "\n",
    "scores"
   ]
  },
  {
   "cell_type": "markdown",
   "id": "84db25ca",
   "metadata": {},
   "source": [
    "### test on a set of sentences"
   ]
  },
  {
   "cell_type": "code",
   "execution_count": 12,
   "id": "23f166fb",
   "metadata": {},
   "outputs": [
    {
     "name": "stdout",
     "output_type": "stream",
     "text": [
      "1. E' un prodotto pessimo\n",
      "negative: 0.9978|neutral: 0.002|positive: 0.0002|\n",
      "\n",
      "2. La sua organizzazione ha fornito un buon servizio alla clientela\n",
      "negative: 0.0002|neutral: 0.002|positive: 0.9978|\n",
      "\n",
      "3. La sua organizzazione non ha fornito un buon servizio alla clientela\n",
      "negative: 0.9951|neutral: 0.0046|positive: 0.0003|\n",
      "\n",
      "4. Non credo che la sua organizzazione abbia fornito un buon servizio alla clientela\n",
      "negative: 0.9716|neutral: 0.0181|positive: 0.0103|\n",
      "\n",
      "5. Il prodotto non funziona, non comprero' più nulla dalla vostra azienda\n",
      "negative: 0.9976|neutral: 0.0023|positive: 0.0002|\n",
      "\n",
      "6. Io penso che la sua organizzazione non abbia fornito un buon servizio alla clientela\n",
      "negative: 0.9973|neutral: 0.0025|positive: 0.0002|\n",
      "\n",
      "7. La gestione da parte della Regione Lazio della complessa macchina dei vaccini è stata buona?\n",
      "negative: 0.0006|neutral: 0.8939|positive: 0.1055|\n",
      "\n",
      "8. La gestione da parte della Regione Lazio della complessa macchina dei vaccini è stata buona\n",
      "negative: 0.0004|neutral: 0.0487|positive: 0.9509|\n",
      "\n",
      "9. La vostra organizzazione offre servizi pessimi\n",
      "negative: 0.9852|neutral: 0.0146|positive: 0.0002|\n",
      "\n",
      "10. La vostra organizzazione offre servizi non adeguati\n",
      "negative: 0.9593|neutral: 0.0405|positive: 0.0002|\n",
      "\n",
      "11. Sono molto soddisfatto del tuo lavoro\n",
      "negative: 0.0002|neutral: 0.0015|positive: 0.9984|\n",
      "\n",
      "12. non sono del tutto sicuro che il lavoro sia adeguato\n",
      "negative: 0.6756|neutral: 0.3186|positive: 0.0058|\n",
      "\n",
      "13. l'azienda dovrebbe offrire servizi migliori\n",
      "negative: 0.0035|neutral: 0.0057|positive: 0.9908|\n",
      "\n",
      "14. il supporto offerto dal customer care non è stato adeguato\n",
      "negative: 0.9884|neutral: 0.0114|positive: 0.0002|\n",
      "\n",
      "15. il risultato è pessimo\n",
      "negative: 0.9974|neutral: 0.0025|positive: 0.0002|\n",
      "\n",
      "16. il Napoli ha giocato una partita decente\n",
      "negative: 0.1219|neutral: 0.7695|positive: 0.1086|\n",
      "\n",
      "17. il lavoro dell'allenatore è stato modesto\n",
      "negative: 0.0141|neutral: 0.9705|positive: 0.0154|\n",
      "\n",
      "\n",
      "CPU times: user 2.74 s, sys: 53.1 ms, total: 2.79 s\n",
      "Wall time: 697 ms\n"
     ]
    }
   ],
   "source": [
    "%%time\n",
    "\n",
    "input_sentences = [\n",
    "    \"E' un prodotto pessimo\",\n",
    "    \"La sua organizzazione ha fornito un buon servizio alla clientela\",\n",
    "    \"La sua organizzazione non ha fornito un buon servizio alla clientela\",\n",
    "    \"Non credo che la sua organizzazione abbia fornito un buon servizio alla clientela\",\n",
    "    \"Il prodotto non funziona, non comprero' più nulla dalla vostra azienda\",\n",
    "    \"Io penso che la sua organizzazione non abbia fornito un buon servizio alla clientela\",\n",
    "    \"La gestione da parte della Regione Lazio della complessa macchina dei vaccini è stata buona?\",\n",
    "    \"La gestione da parte della Regione Lazio della complessa macchina dei vaccini è stata buona\",\n",
    "    \"La vostra organizzazione offre servizi pessimi\",\n",
    "    \"La vostra organizzazione offre servizi non adeguati\",\n",
    "    \"Sono molto soddisfatto del tuo lavoro\",\n",
    "    \"non sono del tutto sicuro che il lavoro sia adeguato\",\n",
    "    \"l'azienda dovrebbe offrire servizi migliori\",\n",
    "    \"il supporto offerto dal customer care non è stato adeguato\",\n",
    "    \"il risultato è pessimo\",\n",
    "    \"il Napoli ha giocato una partita decente\",\n",
    "    \"il lavoro dell'allenatore è stato modesto\",\n",
    "]\n",
    "\n",
    "\n",
    "# object already instantiated\n",
    "\n",
    "for i, sentence in enumerate(input_sentences):\n",
    "\n",
    "    #\n",
    "    # here I do the scoring on a single sentence\n",
    "    #\n",
    "    scores = sent_analyzer.score(sentence)\n",
    "\n",
    "    # scores is a dict of []\n",
    "\n",
    "    print(f\"{i+1}. {sentence}\")\n",
    "    print(sent_analyzer.format_scores(scores))\n",
    "    print()\n",
    "\n",
    "# formatting\n",
    "print()"
   ]
  },
  {
   "cell_type": "markdown",
   "id": "d0193d35",
   "metadata": {},
   "source": [
    "### next step: Test batch"
   ]
  },
  {
   "cell_type": "code",
   "execution_count": null,
   "id": "46912003",
   "metadata": {},
   "outputs": [],
   "source": []
  }
 ],
 "metadata": {
  "kernelspec": {
   "display_name": "Python [conda env:nlp_p37_cpu_v2]",
   "language": "python",
   "name": "conda-env-nlp_p37_cpu_v2-py"
  },
  "language_info": {
   "codemirror_mode": {
    "name": "ipython",
    "version": 3
   },
   "file_extension": ".py",
   "mimetype": "text/x-python",
   "name": "python",
   "nbconvert_exporter": "python",
   "pygments_lexer": "ipython3",
   "version": "3.7.8"
  }
 },
 "nbformat": 4,
 "nbformat_minor": 5
}
