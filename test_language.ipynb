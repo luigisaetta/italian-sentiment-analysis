{
 "cells": [
  {
   "cell_type": "markdown",
   "id": "e586870e",
   "metadata": {},
   "source": [
    "### Check Language"
   ]
  },
  {
   "cell_type": "code",
   "execution_count": 1,
   "id": "eb6d06ca",
   "metadata": {},
   "outputs": [],
   "source": [
    "import oci\n",
    "\n",
    "from ads import set_auth"
   ]
  },
  {
   "cell_type": "code",
   "execution_count": 2,
   "id": "647b4208",
   "metadata": {},
   "outputs": [],
   "source": [
    "set_auth(auth='resource_principal')\n",
    "\n",
    "rps = oci.auth.signers.get_resource_principals_signer()"
   ]
  },
  {
   "cell_type": "code",
   "execution_count": 6,
   "id": "03856d13",
   "metadata": {},
   "outputs": [],
   "source": [
    "ai_language_client = oci.ai_language.AIServiceLanguageClient(config={}, signer=rps)"
   ]
  },
  {
   "cell_type": "code",
   "execution_count": 7,
   "id": "b87a1cf6",
   "metadata": {},
   "outputs": [
    {
     "name": "stderr",
     "output_type": "stream",
     "text": [
      "ServiceError: {'opc-request-id': 'F5F4B0EBE4AA49EEB7C6B413C9F8F393/13B9DADA1DDA2E4C93351CA63EEA7B74/FEA02C0BBABD7F1FBBAAA48B5C3BA041', 'code': 'NotAuthorizedOrNotFound', 'message': 'Authorization failed or requested resource not found.', 'status': 404}"
     ]
    }
   ],
   "source": [
    "detect_dominant_language_response = ai_language_client.detect_dominant_language(\n",
    "    detect_dominant_language_details=oci.ai_language.models.DetectDominantLanguageDetails(\n",
    "        text=\"Una frase in italiano\"))"
   ]
  },
  {
   "cell_type": "code",
   "execution_count": null,
   "id": "d8b450da",
   "metadata": {},
   "outputs": [],
   "source": []
  }
 ],
 "metadata": {
  "kernelspec": {
   "display_name": "Python [conda env:nlp_p37_cpu_v2]",
   "language": "python",
   "name": "conda-env-nlp_p37_cpu_v2-py"
  },
  "language_info": {
   "codemirror_mode": {
    "name": "ipython",
    "version": 3
   },
   "file_extension": ".py",
   "mimetype": "text/x-python",
   "name": "python",
   "nbconvert_exporter": "python",
   "pygments_lexer": "ipython3",
   "version": "3.7.8"
  }
 },
 "nbformat": 4,
 "nbformat_minor": 5
}
