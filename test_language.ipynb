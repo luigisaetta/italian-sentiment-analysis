{
 "cells": [
  {
   "cell_type": "markdown",
   "id": "8164e78b",
   "metadata": {},
   "source": [
    "### Check Language"
   ]
  },
  {
   "cell_type": "code",
   "execution_count": 1,
   "id": "d5b10c57",
   "metadata": {},
   "outputs": [],
   "source": [
    "import oci\n",
    "import requests\n",
    "\n",
    "from ads import set_auth"
   ]
  },
  {
   "cell_type": "code",
   "execution_count": 2,
   "id": "68b97fc6",
   "metadata": {},
   "outputs": [],
   "source": [
    "set_auth(auth=\"resource_principal\")\n",
    "\n",
    "rps = oci.auth.signers.get_resource_principals_signer()"
   ]
  },
  {
   "cell_type": "code",
   "execution_count": 3,
   "id": "22678f33",
   "metadata": {},
   "outputs": [],
   "source": [
    "ai_language_client = oci.ai_language.AIServiceLanguageClient(config={}, signer=rps)"
   ]
  },
  {
   "cell_type": "code",
   "execution_count": 4,
   "id": "e26457c0",
   "metadata": {},
   "outputs": [
    {
     "name": "stderr",
     "output_type": "stream",
     "text": [
      "ServiceError: {'opc-request-id': 'BB0C5DAA22424FF495D02A34EB7E4FB1/AB95D657A0DE96834AD7F0D0519BA6A6/887D539760FC89667C8D193C521DED37', 'code': 'NotAuthorizedOrNotFound', 'message': 'Authorization failed or requested resource not found.', 'status': 404}"
     ]
    }
   ],
   "source": [
    "detect_dominant_language_response = ai_language_client.detect_dominant_language(\n",
    "    detect_dominant_language_details=oci.ai_language.models.DetectDominantLanguageDetails(\n",
    "        text=\"Una frase in italiano\"\n",
    "    )\n",
    ")"
   ]
  },
  {
   "cell_type": "code",
   "execution_count": null,
   "id": "f9f56d03",
   "metadata": {},
   "outputs": [],
   "source": [
    "# test using REST directly\n",
    "endpoint = \"https://language.aiservice.eu-frankfurt-1.oci.oraclecloud.com/20210101/actions/detectDominantLanguage\"\n",
    "\n",
    "body = {}  # payload goes here\n",
    "\n",
    "requests.post(endpoint, json=body, auth=rps).json()"
   ]
  },
  {
   "cell_type": "code",
   "execution_count": null,
   "id": "c456fd5e",
   "metadata": {},
   "outputs": [],
   "source": []
  }
 ],
 "metadata": {
  "kernelspec": {
   "display_name": "Python [conda env:nlp_p37_cpu_v2]",
   "language": "python",
   "name": "conda-env-nlp_p37_cpu_v2-py"
  },
  "language_info": {
   "codemirror_mode": {
    "name": "ipython",
    "version": 3
   },
   "file_extension": ".py",
   "mimetype": "text/x-python",
   "name": "python",
   "nbconvert_exporter": "python",
   "pygments_lexer": "ipython3",
   "version": "3.7.8"
  }
 },
 "nbformat": 4,
 "nbformat_minor": 5
}
