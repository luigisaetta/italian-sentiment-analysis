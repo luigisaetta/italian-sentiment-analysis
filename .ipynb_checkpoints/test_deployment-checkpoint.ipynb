{
 "cells": [
  {
   "cell_type": "markdown",
   "id": "083aa496",
   "metadata": {},
   "source": [
    "### Test NLP deployment"
   ]
  },
  {
   "cell_type": "code",
   "execution_count": 20,
   "id": "42f8053e",
   "metadata": {},
   "outputs": [],
   "source": [
    "import requests\n",
    "import oci\n",
    "from oci.signer import Signer\n",
    "\n",
    "import json\n",
    "import pandas as pd\n",
    "import numpy as np"
   ]
  },
  {
   "cell_type": "code",
   "execution_count": 7,
   "id": "228a828f",
   "metadata": {},
   "outputs": [],
   "source": [
    "ENDPOINT = \"https://modeldeployment.eu-frankfurt-1.oci.customer-oci.com/ocid1.datasciencemodeldeployment.oc1.eu-frankfurt-1.amaaaaaangencdya3d3aajpwgvvpbcmvaacdvroq4td6vvvd3g7w4rj3ce2a/predict\""
   ]
  },
  {
   "cell_type": "code",
   "execution_count": 8,
   "id": "c8e2c66d",
   "metadata": {},
   "outputs": [
    {
     "name": "stdout",
     "output_type": "stream",
     "text": [
      "https://modeldeployment.eu-frankfurt-1.oci.customer-oci.com/ocid1.datasciencemodeldeployment.oc1.eu-frankfurt-1.amaaaaaangencdyaszmf7qs4gg3xnrogdwvia6y3y74vygmnucvanuzulv3a/predict\n"
     ]
    }
   ],
   "source": [
    "print(ENDPOINT)"
   ]
  },
  {
   "cell_type": "code",
   "execution_count": 19,
   "id": "33b86b7d",
   "metadata": {},
   "outputs": [
    {
     "name": "stdout",
     "output_type": "stream",
     "text": [
      "These are the predictions from the deployed model:\n",
      "[{'label': '1 star', 'score': 0.1397}, {'label': '2 star', 'score': 0.146}, {'label': '3 star', 'score': 0.2166}, {'label': '4 star', 'score': 0.2406}, {'label': '5 star', 'score': 0.2571}]\n",
      "\n"
     ]
    }
   ],
   "source": [
    "# again using RP\n",
    "rps = oci.auth.signers.get_resource_principals_signer()\n",
    "\n",
    "# payload goes here\n",
    "body = 'La vostra azienda offre servizi inadeguati'\n",
    "\n",
    "print(\"These are the predictions from the deployed model:\")\n",
    "print(requests.post(ENDPOINT, json=body, auth=rps).json())\n",
    "print()"
   ]
  },
  {
   "cell_type": "code",
   "execution_count": null,
   "id": "9be9b873",
   "metadata": {},
   "outputs": [],
   "source": []
  }
 ],
 "metadata": {
  "kernelspec": {
   "display_name": "Python [conda env:nlp_p37_cpu_v2]",
   "language": "python",
   "name": "conda-env-nlp_p37_cpu_v2-py"
  },
  "language_info": {
   "codemirror_mode": {
    "name": "ipython",
    "version": 3
   },
   "file_extension": ".py",
   "mimetype": "text/x-python",
   "name": "python",
   "nbconvert_exporter": "python",
   "pygments_lexer": "ipython3",
   "version": "3.7.8"
  }
 },
 "nbformat": 4,
 "nbformat_minor": 5
}
