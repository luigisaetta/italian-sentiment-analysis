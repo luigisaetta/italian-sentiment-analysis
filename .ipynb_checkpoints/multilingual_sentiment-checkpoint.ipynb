{
 "cells": [
  {
   "cell_type": "markdown",
   "id": "a4055130",
   "metadata": {},
   "source": [
    "### Test multi-lingual model"
   ]
  },
  {
   "cell_type": "code",
   "execution_count": 1,
   "id": "26759777",
   "metadata": {},
   "outputs": [],
   "source": [
    "import torch\n",
    "from torch import nn\n",
    "\n",
    "# HuggingFace transformers (availale in OCI DS conda nlp env)\n",
    "# see: https://github.com/huggingface/transformers\n",
    "from transformers import AutoTokenizer, AutoModelForSequenceClassification"
   ]
  },
  {
   "cell_type": "code",
   "execution_count": 2,
   "id": "9455dbfc",
   "metadata": {},
   "outputs": [],
   "source": [
    "class MultiSentimentAnalyzer:\n",
    "    # load the tokenizer and transformer\n",
    "    def __init__(self, MODEL_NAME):\n",
    "\n",
    "        #\n",
    "        # attribute definitions\n",
    "        #\n",
    "\n",
    "        # for rounding the scores\n",
    "        self._DEC_DIGITS = 4\n",
    "\n",
    "        # name of HuggingFace model used\n",
    "        self._MODEL_NAME = MODEL_NAME\n",
    "\n",
    "        # the list of defined labels (and therefore we will have 5 scores)\n",
    "        # this is changed from ITA class\n",
    "        self._LABELS = [\"1 star\", \"2 star\", \"3 star\", \"4 star\", \"5 star\"]\n",
    "\n",
    "        print(\"Loading model...\")\n",
    "        self.tokenizer = AutoTokenizer.from_pretrained(self._MODEL_NAME)\n",
    "        # Load the model\n",
    "        self.model = AutoModelForSequenceClassification.from_pretrained(\n",
    "            self._MODEL_NAME\n",
    "        )\n",
    "\n",
    "        print(\"Model loading completed!\")\n",
    "\n",
    "    #\n",
    "    # does the scoring on a single sentence a time\n",
    "    #\n",
    "    def score(self, input_sentence):\n",
    "        # encode the sentence and create the input tensor (in PyTorch format)\n",
    "        input_ids = self.tokenizer(\n",
    "            input_sentence, add_special_tokens=True, return_tensors=\"pt\"\n",
    "        )[\"input_ids\"]\n",
    "\n",
    "        # output from tokenizer is already a tensor\n",
    "\n",
    "        # Call the model and get the logits\n",
    "        with torch.no_grad():\n",
    "            logits = self.model(input_ids)[\"logits\"]\n",
    "\n",
    "        # The model was trained with a Log Likelyhood + Softmax combined loss, hence to extract probabilities we need a softmax on top of the logits tensor\n",
    "        proba = nn.functional.softmax(logits, dim=1)\n",
    "\n",
    "        # to remove the added dimension with squeeze\n",
    "        # proba is (negative, neutral, positive)\n",
    "        scores = proba.squeeze(0)\n",
    "\n",
    "        # get rid of tensor and round and\n",
    "        # prepare the output json\n",
    "\n",
    "        ret_vet = []\n",
    "\n",
    "        for i, label in enumerate(self._LABELS):\n",
    "            ret_vet.append({\"label\": label, \"score\": self.round(scores[i])})\n",
    "\n",
    "        return ret_vet\n",
    "\n",
    "    # only to format output\n",
    "    def format_scores(self, scores):\n",
    "        score_str = \"\"\n",
    "\n",
    "        for v_score in scores:\n",
    "            score_str += str(v_score[\"label\"]) + \": \" + str(v_score[\"score\"]) + \"|\"\n",
    "\n",
    "        return score_str\n",
    "\n",
    "    # utility to get rid of tensor and round\n",
    "    def round(self, tens_val):\n",
    "        return round(tens_val.item(), self._DEC_DIGITS)"
   ]
  },
  {
   "cell_type": "code",
   "execution_count": 3,
   "id": "0dda2f47",
   "metadata": {},
   "outputs": [
    {
     "name": "stdout",
     "output_type": "stream",
     "text": [
      "Loading model...\n",
      "Model loading completed!\n",
      "CPU times: user 3.38 s, sys: 214 ms, total: 3.6 s\n",
      "Wall time: 8.46 s\n"
     ]
    }
   ],
   "source": [
    "%%time\n",
    "\n",
    "# loading the model: pass the HF model name\n",
    "MODEL_NAME = \"nlptown/bert-base-multilingual-uncased-sentiment\"\n",
    "\n",
    "sent_analyzer = MultiSentimentAnalyzer(MODEL_NAME)"
   ]
  },
  {
   "cell_type": "markdown",
   "id": "75e1e9f4",
   "metadata": {},
   "source": [
    "### Some tests"
   ]
  },
  {
   "cell_type": "code",
   "execution_count": 4,
   "id": "fff90245",
   "metadata": {},
   "outputs": [
    {
     "name": "stdout",
     "output_type": "stream",
     "text": [
      "CPU times: user 173 ms, sys: 3.69 ms, total: 176 ms\n",
      "Wall time: 43.7 ms\n"
     ]
    },
    {
     "data": {
      "text/plain": [
       "[{'label': '1 star', 'score': 0.0056},\n",
       " {'label': '2 star', 'score': 0.0059},\n",
       " {'label': '3 star', 'score': 0.0518},\n",
       " {'label': '4 star', 'score': 0.323},\n",
       " {'label': '5 star', 'score': 0.6137}]"
      ]
     },
     "execution_count": 4,
     "metadata": {},
     "output_type": "execute_result"
    }
   ],
   "source": [
    "%%time\n",
    "\n",
    "scores = sent_analyzer.score(\n",
    "    \"Il servizio offerto alla clientela è ottimo\"\n",
    ")\n",
    "\n",
    "scores"
   ]
  },
  {
   "cell_type": "code",
   "execution_count": 5,
   "id": "260431b4",
   "metadata": {},
   "outputs": [
    {
     "data": {
      "text/plain": [
       "[{'label': '1 star', 'score': 0.0031},\n",
       " {'label': '2 star', 'score': 0.0043},\n",
       " {'label': '3 star', 'score': 0.0572},\n",
       " {'label': '4 star', 'score': 0.4137},\n",
       " {'label': '5 star', 'score': 0.5217}]"
      ]
     },
     "execution_count": 5,
     "metadata": {},
     "output_type": "execute_result"
    }
   ],
   "source": [
    "scores = sent_analyzer.score(\n",
    "    \"The service you have offered to your customers is really good\"\n",
    ")\n",
    "\n",
    "scores"
   ]
  },
  {
   "cell_type": "code",
   "execution_count": 6,
   "id": "d7768407",
   "metadata": {},
   "outputs": [
    {
     "name": "stdout",
     "output_type": "stream",
     "text": [
      "1. E' un prodotto pessimo\n",
      "1 star: 0.9365|2 star: 0.0558|3 star: 0.0063|4 star: 0.0008|5 star: 0.0006|\n",
      "\n",
      "2. La sua organizzazione ha fornito un buon servizio alla clientela\n",
      "1 star: 0.0041|2 star: 0.0072|3 star: 0.1284|4 star: 0.5368|5 star: 0.3235|\n",
      "\n",
      "3. La sua organizzazione non ha fornito un buon servizio alla clientela\n",
      "1 star: 0.2703|2 star: 0.4699|3 star: 0.2328|4 star: 0.0228|5 star: 0.0042|\n",
      "\n",
      "4. Non credo che la sua organizzazione abbia fornito un buon servizio alla clientela\n",
      "1 star: 0.0336|2 star: 0.0579|3 star: 0.2817|4 star: 0.4109|5 star: 0.2159|\n",
      "\n",
      "5. Il prodotto non funziona, non comprero' più nulla dalla vostra azienda\n",
      "1 star: 0.9054|2 star: 0.0825|3 star: 0.0105|4 star: 0.0009|5 star: 0.0006|\n",
      "\n",
      "6. Io penso che la sua organizzazione non abbia fornito un buon servizio alla clientela\n",
      "1 star: 0.304|2 star: 0.4361|3 star: 0.2269|4 star: 0.0261|5 star: 0.0068|\n",
      "\n",
      "7. La gestione da parte della Regione Lazio della complessa macchina dei vaccini è stata buona?\n",
      "1 star: 0.1193|2 star: 0.2377|3 star: 0.3919|4 star: 0.1849|5 star: 0.0662|\n",
      "\n",
      "8. La gestione da parte della Regione Lazio della complessa macchina dei vaccini è stata buona\n",
      "1 star: 0.0058|2 star: 0.0141|3 star: 0.197|4 star: 0.5233|5 star: 0.2598|\n",
      "\n",
      "9. La vostra organizzazione offre servizi pessimi\n",
      "1 star: 0.806|2 star: 0.1544|3 star: 0.0321|4 star: 0.0048|5 star: 0.0027|\n",
      "\n",
      "10. La vostra organizzazione offre servizi non adeguati\n",
      "1 star: 0.433|2 star: 0.3875|3 star: 0.152|4 star: 0.0202|5 star: 0.0073|\n",
      "\n",
      "11. Sono molto soddisfatto del tuo lavoro\n",
      "1 star: 0.0022|2 star: 0.0024|3 star: 0.0228|4 star: 0.2904|5 star: 0.6822|\n",
      "\n",
      "12. non sono del tutto sicuro che il lavoro sia adeguato\n",
      "1 star: 0.0812|2 star: 0.4218|3 star: 0.4576|4 star: 0.0351|5 star: 0.0044|\n",
      "\n",
      "13. l'azienda dovrebbe offrire servizi migliori\n",
      "1 star: 0.1404|2 star: 0.2842|3 star: 0.3919|4 star: 0.1293|5 star: 0.0542|\n",
      "\n",
      "14. il supporto offerto dal customer care non è stato adeguato\n",
      "1 star: 0.3425|2 star: 0.4247|3 star: 0.2104|4 star: 0.0188|5 star: 0.0037|\n",
      "\n",
      "15. il risultato è pessimo\n",
      "1 star: 0.7333|2 star: 0.2177|3 star: 0.0447|4 star: 0.0034|5 star: 0.001|\n",
      "\n",
      "16. il Napoli ha giocato una partita decente\n",
      "1 star: 0.0261|2 star: 0.0901|3 star: 0.5554|4 star: 0.2638|5 star: 0.0645|\n",
      "\n",
      "17. il lavoro dell'allenatore è stato modesto\n",
      "1 star: 0.1189|2 star: 0.3707|3 star: 0.4305|4 star: 0.066|5 star: 0.0139|\n",
      "\n",
      "\n",
      "CPU times: user 3.2 s, sys: 36.8 ms, total: 3.24 s\n",
      "Wall time: 810 ms\n"
     ]
    }
   ],
   "source": [
    "%%time\n",
    "\n",
    "input_sentences = [\n",
    "    \"E' un prodotto pessimo\",\n",
    "    \"La sua organizzazione ha fornito un buon servizio alla clientela\",\n",
    "    \"La sua organizzazione non ha fornito un buon servizio alla clientela\",\n",
    "    \"Non credo che la sua organizzazione abbia fornito un buon servizio alla clientela\",\n",
    "    \"Il prodotto non funziona, non comprero' più nulla dalla vostra azienda\",\n",
    "    \"Io penso che la sua organizzazione non abbia fornito un buon servizio alla clientela\",\n",
    "    \"La gestione da parte della Regione Lazio della complessa macchina dei vaccini è stata buona?\",\n",
    "    \"La gestione da parte della Regione Lazio della complessa macchina dei vaccini è stata buona\",\n",
    "    \"La vostra organizzazione offre servizi pessimi\",\n",
    "    \"La vostra organizzazione offre servizi non adeguati\",\n",
    "    \"Sono molto soddisfatto del tuo lavoro\",\n",
    "    \"non sono del tutto sicuro che il lavoro sia adeguato\",\n",
    "    \"l'azienda dovrebbe offrire servizi migliori\",\n",
    "    \"il supporto offerto dal customer care non è stato adeguato\",\n",
    "    \"il risultato è pessimo\",\n",
    "    \"il Napoli ha giocato una partita decente\",\n",
    "    \"il lavoro dell'allenatore è stato modesto\",\n",
    "]\n",
    "\n",
    "\n",
    "# object already instantiated\n",
    "\n",
    "for i, sentence in enumerate(input_sentences):\n",
    "\n",
    "    #\n",
    "    # here I do the scoring on a single sentence\n",
    "    #\n",
    "    scores = sent_analyzer.score(sentence)\n",
    "\n",
    "    # scores is a dict of []\n",
    "\n",
    "    print(f\"{i+1}. {sentence}\")\n",
    "    print(sent_analyzer.format_scores(scores))\n",
    "    print()\n",
    "\n",
    "# formatting\n",
    "print()"
   ]
  },
  {
   "cell_type": "markdown",
   "id": "1c96bca1",
   "metadata": {},
   "source": [
    "### custom test"
   ]
  },
  {
   "cell_type": "code",
   "execution_count": 8,
   "id": "ba928575",
   "metadata": {},
   "outputs": [
    {
     "data": {
      "text/plain": [
       "[{'label': '1 star', 'score': 0.1439},\n",
       " {'label': '2 star', 'score': 0.5101},\n",
       " {'label': '3 star', 'score': 0.3245},\n",
       " {'label': '4 star', 'score': 0.0194},\n",
       " {'label': '5 star', 'score': 0.0021}]"
      ]
     },
     "execution_count": 8,
     "metadata": {},
     "output_type": "execute_result"
    }
   ],
   "source": [
    "sentence = \"L'organizzazione di questa riunione è stata ottima\"\n",
    "\n",
    "sent_analyzer.score(sentence)"
   ]
  },
  {
   "cell_type": "code",
   "execution_count": null,
   "id": "0f921db1",
   "metadata": {},
   "outputs": [],
   "source": []
  }
 ],
 "metadata": {
  "kernelspec": {
   "display_name": "Python [conda env:nlp_p37_cpu_v2]",
   "language": "python",
   "name": "conda-env-nlp_p37_cpu_v2-py"
  },
  "language_info": {
   "codemirror_mode": {
    "name": "ipython",
    "version": 3
   },
   "file_extension": ".py",
   "mimetype": "text/x-python",
   "name": "python",
   "nbconvert_exporter": "python",
   "pygments_lexer": "ipython3",
   "version": "3.7.8"
  }
 },
 "nbformat": 4,
 "nbformat_minor": 5
}
