{
 "cells": [
  {
   "cell_type": "markdown",
   "id": "1eaa534f",
   "metadata": {},
   "source": [
    "### Test NLP deployment"
   ]
  },
  {
   "cell_type": "code",
   "execution_count": 7,
   "id": "950d9b5e",
   "metadata": {},
   "outputs": [],
   "source": [
    "import requests\n",
    "import oci\n",
    "from oci.signer import Signer\n",
    "\n",
    "import json\n",
    "import pandas as pd\n",
    "import numpy as np"
   ]
  },
  {
   "cell_type": "code",
   "execution_count": 8,
   "id": "085fd660",
   "metadata": {},
   "outputs": [],
   "source": [
    "ENDPOINT = \"https://modeldeployment.eu-frankfurt-1.oci.customer-oci.com/ocid1.datasciencemodeldeployment.oc1.eu-frankfurt-1.amaaaaaangencdya3d3aajpwgvvpbcmvaacdvroq4td6vvvd3g7w4rj3ce2a/predict\""
   ]
  },
  {
   "cell_type": "code",
   "execution_count": 9,
   "id": "ca782e56",
   "metadata": {},
   "outputs": [
    {
     "name": "stdout",
     "output_type": "stream",
     "text": [
      "https://modeldeployment.eu-frankfurt-1.oci.customer-oci.com/ocid1.datasciencemodeldeployment.oc1.eu-frankfurt-1.amaaaaaangencdya3d3aajpwgvvpbcmvaacdvroq4td6vvvd3g7w4rj3ce2a/predict\n"
     ]
    }
   ],
   "source": [
    "print(ENDPOINT)"
   ]
  },
  {
   "cell_type": "code",
   "execution_count": 16,
   "id": "d8f005fe",
   "metadata": {},
   "outputs": [
    {
     "name": "stdout",
     "output_type": "stream",
     "text": [
      "These are the predictions :\n",
      "[{'label': '1 star', 'score': 0.0041}, {'label': '2 star', 'score': 0.0072}, {'label': '3 star', 'score': 0.1284}, {'label': '4 star', 'score': 0.5368}, {'label': '5 star', 'score': 0.3235}]\n",
      "\n"
     ]
    }
   ],
   "source": [
    "# again using RP\n",
    "rps = oci.auth.signers.get_resource_principals_signer()\n",
    "\n",
    "# payload goes here\n",
    "sentence = \"La sua organizzazione ha fornito un buon servizio alla clientela\"\n",
    "\n",
    "body = sentence\n",
    "\n",
    "print(\"These are the predictions :\")\n",
    "print(requests.post(ENDPOINT, json=body, auth=rps).json())\n",
    "print()"
   ]
  },
  {
   "cell_type": "code",
   "execution_count": null,
   "id": "5c80b661",
   "metadata": {},
   "outputs": [],
   "source": []
  },
  {
   "cell_type": "code",
   "execution_count": null,
   "id": "b12331f9",
   "metadata": {},
   "outputs": [],
   "source": []
  }
 ],
 "metadata": {
  "kernelspec": {
   "display_name": "Python [conda env:nlp_p37_cpu_v2]",
   "language": "python",
   "name": "conda-env-nlp_p37_cpu_v2-py"
  },
  "language_info": {
   "codemirror_mode": {
    "name": "ipython",
    "version": 3
   },
   "file_extension": ".py",
   "mimetype": "text/x-python",
   "name": "python",
   "nbconvert_exporter": "python",
   "pygments_lexer": "ipython3",
   "version": "3.7.8"
  }
 },
 "nbformat": 4,
 "nbformat_minor": 5
}
