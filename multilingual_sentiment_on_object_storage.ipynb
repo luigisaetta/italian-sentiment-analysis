{
 "cells": [
  {
   "cell_type": "markdown",
   "id": "ae37e269",
   "metadata": {},
   "source": [
    "### Multi-lingual model based on Transformer for Sentiment Analysis\n",
    "\n",
    "* Conda env used: **Natural Language Processing for CPU Python 3.7**\n",
    "* the model is based on a pre-trained transformer available from **Hugging Face Hub**: \"nlptown/bert-base-multilingual-uncased-sentiment\"\n",
    "* if a GPU is available, the model does inference on GPU (faster)"
   ]
  },
  {
   "cell_type": "markdown",
   "id": "87f76786",
   "metadata": {},
   "source": [
    "**Sentiment Analysis**: we want to analyze a text and establish if the sentiment expressed is positive, negative or neutral.\n",
    "\n",
    "In the case of the transformer used here, it is used a scale with a **number of stars** ranging from **1** (very negative) to **5** (highly positive)"
   ]
  },
  {
   "cell_type": "code",
   "execution_count": 9,
   "id": "2d0ad03f",
   "metadata": {},
   "outputs": [],
   "source": [
    "import torch\n",
    "from torch import nn\n",
    "import numpy as np\n",
    "\n",
    "# HuggingFace transformers (availale in OCI DS conda nlp env)\n",
    "# see: https://github.com/huggingface/transformers\n",
    "from transformers import AutoTokenizer, AutoModelForSequenceClassification\n",
    "\n",
    "# This is the class I have developed to simplify the code, from my Python file\n",
    "from sentiment_analyzers import MultiLanguageSentimentAnalyzer\n",
    "\n",
    "# to read file from Object Storage\n",
    "import os\n",
    "import ocifs\n",
    "import ads\n",
    "from ads import set_auth\n",
    "import pandas as pd"
   ]
  },
  {
   "cell_type": "markdown",
   "id": "44ecb784",
   "metadata": {},
   "source": [
    "#### loading the model (is locally cached)"
   ]
  },
  {
   "cell_type": "code",
   "execution_count": 2,
   "id": "aba5c5d4",
   "metadata": {},
   "outputs": [
    {
     "name": "stdout",
     "output_type": "stream",
     "text": [
      "Loading model...\n",
      "Model loading completed!\n",
      "CPU times: user 2.3 s, sys: 611 ms, total: 2.91 s\n",
      "Wall time: 7.37 s\n"
     ]
    }
   ],
   "source": [
    "%%time\n",
    "\n",
    "# loading the model: pass the HF model name\n",
    "MODEL_NAME = \"nlptown/bert-base-multilingual-uncased-sentiment\"\n",
    "\n",
    "# labels are dependent on the used model , see HF documentation\n",
    "sent_analyzer = MultiLanguageSentimentAnalyzer(\n",
    "    MODEL_NAME, labels=[\"1 star\", \"2 star\", \"3 star\", \"4 star\", \"5 star\"]\n",
    ")"
   ]
  },
  {
   "cell_type": "markdown",
   "id": "a8eec6ed",
   "metadata": {},
   "source": [
    "### Some tests"
   ]
  },
  {
   "cell_type": "code",
   "execution_count": 3,
   "id": "31db40ce",
   "metadata": {},
   "outputs": [
    {
     "data": {
      "text/plain": [
       "device(type='cpu')"
      ]
     },
     "execution_count": 3,
     "metadata": {},
     "output_type": "execute_result"
    }
   ],
   "source": [
    "# is using GPU?\n",
    "sent_analyzer.get_device()"
   ]
  },
  {
   "cell_type": "code",
   "execution_count": 4,
   "id": "46cc0608",
   "metadata": {},
   "outputs": [
    {
     "name": "stdout",
     "output_type": "stream",
     "text": [
      "CPU times: user 671 ms, sys: 36.7 ms, total: 708 ms\n",
      "Wall time: 183 ms\n"
     ]
    },
    {
     "data": {
      "text/plain": [
       "array([1, 5, 1, 4, 5, 2])"
      ]
     },
     "execution_count": 4,
     "metadata": {},
     "output_type": "execute_result"
    }
   ],
   "source": [
    "%%time\n",
    "\n",
    "input_sentences = [\"La Ferrari ha sbagliato completamente la strategia di gara\",\n",
    "                  \"La gara di Werstappen è stata veramente avvincente\",\n",
    "                  \"Odio quando fanno uscire la safety car\",\n",
    "                  \"Una buona gara\",\n",
    "                  \"Oddio, che gara entusiasmante\",\n",
    "                  \"Peccato, la Ferrari poteva vincere\"]\n",
    "\n",
    "detailed_scores = sent_analyzer.batch_score(input_sentences)\n",
    "\n",
    "# Instead of a tensor I want the numpy vector\n",
    "scores = (np.argmax(detailed_scores.numpy(), axis = 1) + 1)\n",
    "\n",
    "scores"
   ]
  },
  {
   "cell_type": "markdown",
   "id": "c5381118",
   "metadata": {},
   "source": [
    "### Read a file from Object Storage and does scoring on each sentence"
   ]
  },
  {
   "cell_type": "code",
   "execution_count": 10,
   "id": "ba5d0295",
   "metadata": {},
   "outputs": [],
   "source": [
    "# this way we enable access to Object Storage and don't need to provide API keys\n",
    "# OCI admin must have set-up a dynamic group for Notebooks, with proper policy\n",
    "set_auth(auth='resource_principal')"
   ]
  },
  {
   "cell_type": "code",
   "execution_count": 11,
   "id": "d000034f",
   "metadata": {},
   "outputs": [],
   "source": [
    "def read_from_object_storage(oci_url):\n",
    "    # get access to OSS as an fs\n",
    "    # config={} assume RESOURCE PRINCIPAL auth\n",
    "    fs = ocifs.OCIFileSystem(config={})\n",
    "    \n",
    "    # reading data from Object Storage\n",
    "    with fs.open(oci_url, 'r') as f:\n",
    "        df = pd.read_csv(f, sep=\";\", header=None)\n",
    "    \n",
    "    return df"
   ]
  },
  {
   "cell_type": "code",
   "execution_count": 12,
   "id": "94b43a44",
   "metadata": {},
   "outputs": [],
   "source": [
    "NAMESPACE = \"frqap2zhtzbe\"\n",
    "BUCKET = \"oracle_redbull_inputs\"\n",
    "FILE_NAME = \"oracle_redbull1.csv\"\n",
    "\n",
    "oci_url = f\"oci://{BUCKET}@{NAMESPACE}/{FILE_NAME}\"\n",
    "\n",
    "df_texts = read_from_object_storage(oci_url)\n",
    "df_texts.columns = ['id','text']"
   ]
  },
  {
   "cell_type": "code",
   "execution_count": 13,
   "id": "4858e80c",
   "metadata": {},
   "outputs": [
    {
     "data": {
      "text/html": [
       "<div>\n",
       "<style scoped>\n",
       "    .dataframe tbody tr th:only-of-type {\n",
       "        vertical-align: middle;\n",
       "    }\n",
       "\n",
       "    .dataframe tbody tr th {\n",
       "        vertical-align: top;\n",
       "    }\n",
       "\n",
       "    .dataframe thead th {\n",
       "        text-align: right;\n",
       "    }\n",
       "</style>\n",
       "<table border=\"1\" class=\"dataframe\">\n",
       "  <thead>\n",
       "    <tr style=\"text-align: right;\">\n",
       "      <th></th>\n",
       "      <th>id</th>\n",
       "      <th>text</th>\n",
       "    </tr>\n",
       "  </thead>\n",
       "  <tbody>\n",
       "    <tr>\n",
       "      <th>0</th>\n",
       "      <td>1</td>\n",
       "      <td>La Ferrari ha sbagliato completamente la strat...</td>\n",
       "    </tr>\n",
       "    <tr>\n",
       "      <th>1</th>\n",
       "      <td>2</td>\n",
       "      <td>La gara di Werstappen è stata veramente avvinc...</td>\n",
       "    </tr>\n",
       "    <tr>\n",
       "      <th>2</th>\n",
       "      <td>3</td>\n",
       "      <td>Odio quando fanno uscire la safety car</td>\n",
       "    </tr>\n",
       "    <tr>\n",
       "      <th>3</th>\n",
       "      <td>4</td>\n",
       "      <td>Una buona gara</td>\n",
       "    </tr>\n",
       "    <tr>\n",
       "      <th>4</th>\n",
       "      <td>5</td>\n",
       "      <td>Oddio, che gara entusiasmante</td>\n",
       "    </tr>\n",
       "  </tbody>\n",
       "</table>\n",
       "</div>"
      ],
      "text/plain": [
       "   id                                               text\n",
       "0   1  La Ferrari ha sbagliato completamente la strat...\n",
       "1   2  La gara di Werstappen è stata veramente avvinc...\n",
       "2   3             Odio quando fanno uscire la safety car\n",
       "3   4                                     Una buona gara\n",
       "4   5                      Oddio, che gara entusiasmante"
      ]
     },
     "execution_count": 13,
     "metadata": {},
     "output_type": "execute_result"
    }
   ],
   "source": [
    "df_texts.head()"
   ]
  },
  {
   "cell_type": "code",
   "execution_count": 18,
   "id": "9b7fd2e2",
   "metadata": {},
   "outputs": [
    {
     "name": "stdout",
     "output_type": "stream",
     "text": [
      "CPU times: user 1.11 s, sys: 55.7 ms, total: 1.17 s\n",
      "Wall time: 296 ms\n"
     ]
    }
   ],
   "source": [
    "%%time\n",
    "\n",
    "# estraiamo i test e facciamo lo scoring in modalità batch\n",
    "input_sentences = list(df_texts['text'].values)\n",
    "\n",
    "detailed_scores = sent_analyzer.batch_score(input_sentences)\n",
    "\n",
    "# Instead of a tensor I want the numpy vector\n",
    "scores = (np.argmax(detailed_scores.numpy(), axis = 1) + 1)\n",
    "\n",
    "# aggiungiamo colonna al DF\n",
    "df_texts['score'] = scores"
   ]
  },
  {
   "cell_type": "code",
   "execution_count": 19,
   "id": "622ac1ab",
   "metadata": {},
   "outputs": [
    {
     "data": {
      "text/html": [
       "<div>\n",
       "<style scoped>\n",
       "    .dataframe tbody tr th:only-of-type {\n",
       "        vertical-align: middle;\n",
       "    }\n",
       "\n",
       "    .dataframe tbody tr th {\n",
       "        vertical-align: top;\n",
       "    }\n",
       "\n",
       "    .dataframe thead th {\n",
       "        text-align: right;\n",
       "    }\n",
       "</style>\n",
       "<table border=\"1\" class=\"dataframe\">\n",
       "  <thead>\n",
       "    <tr style=\"text-align: right;\">\n",
       "      <th></th>\n",
       "      <th>id</th>\n",
       "      <th>text</th>\n",
       "      <th>score</th>\n",
       "    </tr>\n",
       "  </thead>\n",
       "  <tbody>\n",
       "    <tr>\n",
       "      <th>0</th>\n",
       "      <td>1</td>\n",
       "      <td>La Ferrari ha sbagliato completamente la strat...</td>\n",
       "      <td>1</td>\n",
       "    </tr>\n",
       "    <tr>\n",
       "      <th>1</th>\n",
       "      <td>2</td>\n",
       "      <td>La gara di Werstappen è stata veramente avvinc...</td>\n",
       "      <td>5</td>\n",
       "    </tr>\n",
       "    <tr>\n",
       "      <th>2</th>\n",
       "      <td>3</td>\n",
       "      <td>Odio quando fanno uscire la safety car</td>\n",
       "      <td>1</td>\n",
       "    </tr>\n",
       "    <tr>\n",
       "      <th>3</th>\n",
       "      <td>4</td>\n",
       "      <td>Una buona gara</td>\n",
       "      <td>4</td>\n",
       "    </tr>\n",
       "    <tr>\n",
       "      <th>4</th>\n",
       "      <td>5</td>\n",
       "      <td>Oddio, che gara entusiasmante</td>\n",
       "      <td>5</td>\n",
       "    </tr>\n",
       "    <tr>\n",
       "      <th>5</th>\n",
       "      <td>6</td>\n",
       "      <td>Peccato, la Ferrari poteva vincere</td>\n",
       "      <td>2</td>\n",
       "    </tr>\n",
       "    <tr>\n",
       "      <th>6</th>\n",
       "      <td>7</td>\n",
       "      <td>Da ragazzino ero un grande fan della Ferrari e...</td>\n",
       "      <td>5</td>\n",
       "    </tr>\n",
       "    <tr>\n",
       "      <th>7</th>\n",
       "      <td>8</td>\n",
       "      <td>Peccato, se non si rompeva il motore</td>\n",
       "      <td>1</td>\n",
       "    </tr>\n",
       "    <tr>\n",
       "      <th>8</th>\n",
       "      <td>9</td>\n",
       "      <td>Dai, che sorpasso veramente entusiasmante</td>\n",
       "      <td>5</td>\n",
       "    </tr>\n",
       "    <tr>\n",
       "      <th>9</th>\n",
       "      <td>10</td>\n",
       "      <td>Nulla da dire, una strategia di gara impeccabile</td>\n",
       "      <td>5</td>\n",
       "    </tr>\n",
       "  </tbody>\n",
       "</table>\n",
       "</div>"
      ],
      "text/plain": [
       "   id                                               text  score\n",
       "0   1  La Ferrari ha sbagliato completamente la strat...      1\n",
       "1   2  La gara di Werstappen è stata veramente avvinc...      5\n",
       "2   3             Odio quando fanno uscire la safety car      1\n",
       "3   4                                     Una buona gara      4\n",
       "4   5                      Oddio, che gara entusiasmante      5\n",
       "5   6                 Peccato, la Ferrari poteva vincere      2\n",
       "6   7  Da ragazzino ero un grande fan della Ferrari e...      5\n",
       "7   8               Peccato, se non si rompeva il motore      1\n",
       "8   9          Dai, che sorpasso veramente entusiasmante      5\n",
       "9  10   Nulla da dire, una strategia di gara impeccabile      5"
      ]
     },
     "execution_count": 19,
     "metadata": {},
     "output_type": "execute_result"
    }
   ],
   "source": [
    "df_texts.head(10)"
   ]
  },
  {
   "cell_type": "code",
   "execution_count": 20,
   "id": "5f823c93",
   "metadata": {},
   "outputs": [
    {
     "data": {
      "text/html": [
       "<div>\n",
       "<style scoped>\n",
       "    .dataframe tbody tr th:only-of-type {\n",
       "        vertical-align: middle;\n",
       "    }\n",
       "\n",
       "    .dataframe tbody tr th {\n",
       "        vertical-align: top;\n",
       "    }\n",
       "\n",
       "    .dataframe thead th {\n",
       "        text-align: right;\n",
       "    }\n",
       "</style>\n",
       "<table border=\"1\" class=\"dataframe\">\n",
       "  <thead>\n",
       "    <tr style=\"text-align: right;\">\n",
       "      <th></th>\n",
       "      <th>id</th>\n",
       "      <th>text</th>\n",
       "      <th>score</th>\n",
       "    </tr>\n",
       "  </thead>\n",
       "  <tbody>\n",
       "    <tr>\n",
       "      <th>1</th>\n",
       "      <td>2</td>\n",
       "      <td>La gara di Werstappen è stata veramente avvinc...</td>\n",
       "      <td>5</td>\n",
       "    </tr>\n",
       "    <tr>\n",
       "      <th>3</th>\n",
       "      <td>4</td>\n",
       "      <td>Una buona gara</td>\n",
       "      <td>4</td>\n",
       "    </tr>\n",
       "    <tr>\n",
       "      <th>4</th>\n",
       "      <td>5</td>\n",
       "      <td>Oddio, che gara entusiasmante</td>\n",
       "      <td>5</td>\n",
       "    </tr>\n",
       "    <tr>\n",
       "      <th>6</th>\n",
       "      <td>7</td>\n",
       "      <td>Da ragazzino ero un grande fan della Ferrari e...</td>\n",
       "      <td>5</td>\n",
       "    </tr>\n",
       "    <tr>\n",
       "      <th>8</th>\n",
       "      <td>9</td>\n",
       "      <td>Dai, che sorpasso veramente entusiasmante</td>\n",
       "      <td>5</td>\n",
       "    </tr>\n",
       "    <tr>\n",
       "      <th>9</th>\n",
       "      <td>10</td>\n",
       "      <td>Nulla da dire, una strategia di gara impeccabile</td>\n",
       "      <td>5</td>\n",
       "    </tr>\n",
       "  </tbody>\n",
       "</table>\n",
       "</div>"
      ],
      "text/plain": [
       "   id                                               text  score\n",
       "1   2  La gara di Werstappen è stata veramente avvinc...      5\n",
       "3   4                                     Una buona gara      4\n",
       "4   5                      Oddio, che gara entusiasmante      5\n",
       "6   7  Da ragazzino ero un grande fan della Ferrari e...      5\n",
       "8   9          Dai, che sorpasso veramente entusiasmante      5\n",
       "9  10   Nulla da dire, una strategia di gara impeccabile      5"
      ]
     },
     "execution_count": 20,
     "metadata": {},
     "output_type": "execute_result"
    }
   ],
   "source": [
    "THRESHOLD = 3\n",
    "condition = (df_texts['score'] >= THRESHOLD)\n",
    "\n",
    "df_texts[condition].head(10)"
   ]
  },
  {
   "cell_type": "code",
   "execution_count": null,
   "id": "4dc575ee",
   "metadata": {},
   "outputs": [],
   "source": []
  }
 ],
 "metadata": {
  "kernelspec": {
   "display_name": "Python [conda env:nlp_p37_cpu_v2]",
   "language": "python",
   "name": "conda-env-nlp_p37_cpu_v2-py"
  },
  "language_info": {
   "codemirror_mode": {
    "name": "ipython",
    "version": 3
   },
   "file_extension": ".py",
   "mimetype": "text/x-python",
   "name": "python",
   "nbconvert_exporter": "python",
   "pygments_lexer": "ipython3",
   "version": "3.7.8"
  }
 },
 "nbformat": 4,
 "nbformat_minor": 5
}
